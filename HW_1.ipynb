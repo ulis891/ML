{
 "cells": [
  {
   "cell_type": "markdown",
   "metadata": {},
   "source": [
    "# Машинное обучение (семинары)\n",
    "## Урок 1. Функция потерь. Загрузка датасетов\n",
    "Вам дан набор данных с фактическими значениями целевой переменной и предсказанными значениями:\n",
    "\n",
    "\n",
    "- Фактические значения\n",
    "\n",
    "    - actual_values = np.array([100, 150, 200, 250])\n",
    "\n",
    "\n",
    "- Предсказанные значения\n",
    "\n",
    "    - predicted_values = np.array([90, 140, 180, 270])\n",
    "\n",
    "Задача студентов состоит в расчете среднеквадратичной ошибки (MSE) и средней абсолютной ошибки (MAE) для данного набора данных без использования модели. Студенты должны использовать правильные значения фактической переменной и предсказанные значения для расчета функций потерь. Они также должны проанализировать результаты и объяснить, какие значения функции потерь указывают на лучшую точность предсказания."
   ]
  },
  {
   "cell_type": "code",
   "execution_count": 3,
   "metadata": {},
   "outputs": [],
   "source": [
    "import numpy as np"
   ]
  },
  {
   "cell_type": "code",
   "execution_count": 5,
   "metadata": {},
   "outputs": [],
   "source": [
    "# Фактические значения\n",
    "\n",
    "actual_values = np.array([100, 150, 200, 250])\n",
    "\n",
    "\n",
    "# Предсказанные значения\n",
    "\n",
    "predicted_values = np.array([90, 140, 180, 270])"
   ]
  },
  {
   "cell_type": "code",
   "execution_count": 6,
   "metadata": {},
   "outputs": [
    {
     "name": "stdout",
     "output_type": "stream",
     "text": [
      "Среднеквадратичная ошибка (MSE): 250.0\n",
      "Средняя абсолютная ошибка (MAE): 15.0\n"
     ]
    }
   ],
   "source": [
    "# Расчет MSE\n",
    "mse = np.mean((actual_values - predicted_values) ** 2)\n",
    "\n",
    "# Расчет MAE\n",
    "mae = np.mean(np.abs(actual_values - predicted_values))\n",
    "\n",
    "# Вывод результатов\n",
    "print(f\"Среднеквадратичная ошибка (MSE): {mse}\")\n",
    "print(f\"Средняя абсолютная ошибка (MAE): {mae}\")"
   ]
  },
  {
   "cell_type": "markdown",
   "metadata": {},
   "source": [
    "##### MSE: 250\n",
    "Это значение указывает на средний квадрат отклонений предсказанных значений от фактических. Чем меньше это значение, тем лучше модель предсказывает фактические значения. MSE подчеркивает большие ошибки, так как ошибки возводятся в квадрат. \n",
    "\n",
    "##### MAE: 15\n",
    "Это значение показывает среднюю абсолютную ошибку между предсказанными и фактическими значениями. MAE более понятен и дает общее представление о средней ошибке, так как измеряет среднюю ошибку в тех же единицах, что и фактические значения."
   ]
  },
  {
   "cell_type": "markdown",
   "metadata": {},
   "source": []
  }
 ],
 "metadata": {
  "kernelspec": {
   "display_name": "Python 3",
   "language": "python",
   "name": "python3"
  },
  "language_info": {
   "codemirror_mode": {
    "name": "ipython",
    "version": 3
   },
   "file_extension": ".py",
   "mimetype": "text/x-python",
   "name": "python",
   "nbconvert_exporter": "python",
   "pygments_lexer": "ipython3",
   "version": "3.11.7"
  }
 },
 "nbformat": 4,
 "nbformat_minor": 2
}
